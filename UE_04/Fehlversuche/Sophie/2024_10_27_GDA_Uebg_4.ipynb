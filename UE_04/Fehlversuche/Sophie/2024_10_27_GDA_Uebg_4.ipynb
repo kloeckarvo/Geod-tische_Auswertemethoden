{
 "cells": [
  {
   "cell_type": "code",
   "id": "92c3f1ba-36c6-4e21-bb0e-8b569cf1095c",
   "metadata": {
    "ExecuteTime": {
     "end_time": "2024-11-07T13:14:56.800228Z",
     "start_time": "2024-11-07T13:14:56.429079Z"
    }
   },
   "source": [
    "import numpy as np\n",
    "import sympy as sp\n",
    "from sympy import Matrix, Transpose\n",
    "\n",
    "# Designmatrix A\n",
    "A = Matrix([\n",
    "    [202.17, 1.],\n",
    "    [204.04, 1.],\n",
    "    [209.98, 1.],\n",
    "    [213.52, 1.],\n",
    "    [214.89, 1.],\n",
    "    [217.01, 1.],\n",
    "    [220.33, 1.],\n",
    "    [225.06, 1.],\n",
    "    [227.88, 1.],\n",
    "    [233.01, 1.]\n",
    "    \n",
    "])\n",
    "\n",
    "# b-Vektor (Messwerte)\n",
    "b = Matrix([\n",
    "    [41.756],\n",
    "    [41.756],\n",
    "    [41.755],\n",
    "    [41.762],\n",
    "    [41.763],\n",
    "    [41.756],\n",
    "    [41.758],\n",
    "    [41.760],\n",
    "    [41.763],\n",
    "    [41.766]\n",
    "    \n",
    "])\n",
    "\n",
    "# Genauigkeiten (Standardabweichungen)\n",
    "genauigkeiten = Matrix([\n",
    "    [0.005],\n",
    "    [0.003],\n",
    "    [0.003],\n",
    "    [0.005],\n",
    "    [0.005],\n",
    "    [0.003],\n",
    "    [0.003],\n",
    "    [0.003],\n",
    "    [0.003],\n",
    "    [0.004]\n",
    "    \n",
    "])\n",
    "\n",
    "# Berechnung der Varianzen (quadrierte Standardabweichungen)\n",
    "varianzen = genauigkeiten.applyfunc(lambda x: x**2)\n",
    "\n",
    "# Berechnung der Kehrwerte der Varianzen (Gewichte)\n",
    "gewichte = varianzen.applyfunc(lambda x: 1/x)\n",
    "\n",
    "# Gewichtsmatrix P\n",
    "P = sp.diag(*gewichte)\n",
    "\n",
    "# Berechnung der transponierten Matrix A\n",
    "A_T = A.T\n",
    "\n",
    "# Normalgleichungsmatrix mit und ohne Gewichte\n",
    "N = A_T * A\n",
    "N_P = A_T * P * A\n",
    "\n",
    "# Kofaktormatrix Q aus der invertierten Matrix N_P\n",
    "Q = N_P.inv()\n",
    "\n",
    "# Berechnung der Koeffizienten (Steigung m und Achsenabschnitt n) für die Geradengleichung\n",
    "ATPA = A_T * P * A\n",
    "ATPA_inv = ATPA.inv()\n",
    "x = ATPA_inv * (A_T * P * b)\n",
    "\n",
    "# Parameter der Geraden (x[0] = m, x[1] = n)\n",
    "m = x[0]\n",
    "n = x[1]\n",
    "\n",
    "# Vektor der geschätzten Modellwerte (l)\n",
    "l = A * x\n",
    "\n",
    "# Vektor der Verbesserungen (v)\n",
    "v = b - l\n",
    "\n",
    "# Probe: Geradengleichung für einen gegebenen x-Wert\n",
    "def lineare_funktion(x_wert, m, n):\n",
    "    return m * x_wert + n\n",
    "\n",
    "# Beispiel x-Wert zur Berechnung\n",
    "x_wert = 233.01\n",
    "y_wert = lineare_funktion(x_wert, m, n)\n",
    "\n",
    "# Ausgabe des Ergebnisses\n",
    "print(f\"Für den x-Ausgangswert = {x_wert:.3f} beträgt der (verbesserte) y-Wert: {y_wert:.3f}\")\n",
    "print(f\"Funktionsgleichung: f(x) = {m:.5f}x + {n:.5f}\")\n"
   ],
   "outputs": [
    {
     "name": "stdout",
     "output_type": "stream",
     "text": [
      "Für den x-Ausgangswert = 233.010 beträgt der (verbesserte) y-Wert: 41.763\n",
      "Funktionsgleichung: f(x) = 0.00029x + 41.69500\n"
     ]
    }
   ],
   "execution_count": 1
  },
  {
   "cell_type": "code",
   "execution_count": 2,
   "id": "801e8b2f-d258-4af2-a395-5043c9dd1210",
   "metadata": {
    "ExecuteTime": {
     "end_time": "2024-10-29T10:31:11.146155Z",
     "start_time": "2024-10-29T10:31:11.140729Z"
    }
   },
   "outputs": [
    {
     "data": {
      "text/latex": [
       "$\\displaystyle \\left[\\begin{matrix}202.17 & 1.0\\\\204.04 & 1.0\\\\209.98 & 1.0\\\\213.52 & 1.0\\\\214.89 & 1.0\\\\217.01 & 1.0\\\\220.33 & 1.0\\\\225.06 & 1.0\\\\227.88 & 1.0\\\\233.01 & 1.0\\end{matrix}\\right]$"
      ],
      "text/plain": [
       "Matrix([\n",
       "[202.17, 1.0],\n",
       "[204.04, 1.0],\n",
       "[209.98, 1.0],\n",
       "[213.52, 1.0],\n",
       "[214.89, 1.0],\n",
       "[217.01, 1.0],\n",
       "[220.33, 1.0],\n",
       "[225.06, 1.0],\n",
       "[227.88, 1.0],\n",
       "[233.01, 1.0]])"
      ]
     },
     "execution_count": 2,
     "metadata": {},
     "output_type": "execute_result"
    }
   ],
   "source": [
    "A"
   ]
  },
  {
   "cell_type": "code",
   "execution_count": 3,
   "id": "f71988d6-e1ea-40bf-809b-bd1ad32b098b",
   "metadata": {
    "ExecuteTime": {
     "end_time": "2024-11-05T10:05:27.962853Z",
     "start_time": "2024-11-05T10:05:27.956143Z"
    }
   },
   "outputs": [
    {
     "data": {
      "text/latex": [
       "$\\displaystyle \\left[\\begin{matrix}202.17 & 204.04 & 209.98 & 213.52 & 214.89 & 217.01 & 220.33 & 225.06 & 227.88 & 233.01\\\\1.0 & 1.0 & 1.0 & 1.0 & 1.0 & 1.0 & 1.0 & 1.0 & 1.0 & 1.0\\end{matrix}\\right]$"
      ],
      "text/plain": [
       "Matrix([\n",
       "[202.17, 204.04, 209.98, 213.52, 214.89, 217.01, 220.33, 225.06, 227.88, 233.01],\n",
       "[   1.0,    1.0,    1.0,    1.0,    1.0,    1.0,    1.0,    1.0,    1.0,    1.0]])"
      ]
     },
     "execution_count": 3,
     "metadata": {},
     "output_type": "execute_result"
    }
   ],
   "source": [
    "A.T"
   ]
  },
  {
   "cell_type": "code",
   "execution_count": 4,
   "id": "e65f15a7-dec3-4e08-9c9a-9c2d7db9ddea",
   "metadata": {
    "ExecuteTime": {
     "end_time": "2024-10-29T10:31:33.753394Z",
     "start_time": "2024-10-29T10:31:33.746523Z"
    }
   },
   "outputs": [
    {
     "data": {
      "text/latex": [
       "$\\displaystyle \\left[\\begin{matrix}41.756\\\\41.756\\\\41.755\\\\41.762\\\\41.763\\\\41.756\\\\41.758\\\\41.76\\\\41.763\\\\41.766\\end{matrix}\\right]$"
      ],
      "text/plain": [
       "Matrix([\n",
       "[41.756],\n",
       "[41.756],\n",
       "[41.755],\n",
       "[41.762],\n",
       "[41.763],\n",
       "[41.756],\n",
       "[41.758],\n",
       "[ 41.76],\n",
       "[41.763],\n",
       "[41.766]])"
      ]
     },
     "execution_count": 4,
     "metadata": {},
     "output_type": "execute_result"
    }
   ],
   "source": [
    "b"
   ]
  },
  {
   "cell_type": "code",
   "execution_count": 5,
   "id": "0bb6cb9e-39a9-44cb-ab17-a8b4f654dbfa",
   "metadata": {
    "ExecuteTime": {
     "end_time": "2024-10-29T10:31:47.743303Z",
     "start_time": "2024-10-29T10:31:47.735968Z"
    }
   },
   "outputs": [
    {
     "data": {
      "text/latex": [
       "$\\displaystyle \\left[\\begin{matrix}40000.0 & 0 & 0 & 0 & 0 & 0 & 0 & 0 & 0 & 0\\\\0 & 111111.111111111 & 0 & 0 & 0 & 0 & 0 & 0 & 0 & 0\\\\0 & 0 & 111111.111111111 & 0 & 0 & 0 & 0 & 0 & 0 & 0\\\\0 & 0 & 0 & 40000.0 & 0 & 0 & 0 & 0 & 0 & 0\\\\0 & 0 & 0 & 0 & 40000.0 & 0 & 0 & 0 & 0 & 0\\\\0 & 0 & 0 & 0 & 0 & 111111.111111111 & 0 & 0 & 0 & 0\\\\0 & 0 & 0 & 0 & 0 & 0 & 111111.111111111 & 0 & 0 & 0\\\\0 & 0 & 0 & 0 & 0 & 0 & 0 & 111111.111111111 & 0 & 0\\\\0 & 0 & 0 & 0 & 0 & 0 & 0 & 0 & 111111.111111111 & 0\\\\0 & 0 & 0 & 0 & 0 & 0 & 0 & 0 & 0 & 62500.0\\end{matrix}\\right]$"
      ],
      "text/plain": [
       "Matrix([\n",
       "[40000.0,                0,                0,       0,       0,                0,                0,                0,                0,       0],\n",
       "[      0, 111111.111111111,                0,       0,       0,                0,                0,                0,                0,       0],\n",
       "[      0,                0, 111111.111111111,       0,       0,                0,                0,                0,                0,       0],\n",
       "[      0,                0,                0, 40000.0,       0,                0,                0,                0,                0,       0],\n",
       "[      0,                0,                0,       0, 40000.0,                0,                0,                0,                0,       0],\n",
       "[      0,                0,                0,       0,       0, 111111.111111111,                0,                0,                0,       0],\n",
       "[      0,                0,                0,       0,       0,                0, 111111.111111111,                0,                0,       0],\n",
       "[      0,                0,                0,       0,       0,                0,                0, 111111.111111111,                0,       0],\n",
       "[      0,                0,                0,       0,       0,                0,                0,                0, 111111.111111111,       0],\n",
       "[      0,                0,                0,       0,       0,                0,                0,                0,                0, 62500.0]])"
      ]
     },
     "execution_count": 5,
     "metadata": {},
     "output_type": "execute_result"
    }
   ],
   "source": [
    "P"
   ]
  },
  {
   "cell_type": "code",
   "execution_count": 6,
   "id": "bcd1a18f-f86b-43c0-ad1c-b47b12d83940",
   "metadata": {
    "ExecuteTime": {
     "end_time": "2024-10-29T10:31:45.007213Z",
     "start_time": "2024-10-29T10:31:45.001517Z"
    }
   },
   "outputs": [
    {
     "data": {
      "text/latex": [
       "$\\displaystyle \\left[\\begin{matrix}470878.7405 & 2167.89\\\\2167.89 & 10.0\\end{matrix}\\right]$"
      ],
      "text/plain": [
       "Matrix([\n",
       "[470878.7405, 2167.89],\n",
       "[    2167.89,    10.0]])"
      ]
     },
     "execution_count": 6,
     "metadata": {},
     "output_type": "execute_result"
    }
   ],
   "source": [
    "N"
   ]
  },
  {
   "cell_type": "code",
   "execution_count": 7,
   "id": "0499f921-dd91-4d5f-bf92-42f7b006e53e",
   "metadata": {
    "ExecuteTime": {
     "end_time": "2024-10-29T09:29:01.476842Z",
     "start_time": "2024-10-29T09:29:01.471018Z"
    }
   },
   "outputs": [
    {
     "data": {
      "text/latex": [
       "$\\displaystyle \\left[\\begin{matrix}40248320990.0278 & 184708547.222222\\\\184708547.222222 & 849166.666666667\\end{matrix}\\right]$"
      ],
      "text/plain": [
       "Matrix([\n",
       "[40248320990.0278, 184708547.222222],\n",
       "[184708547.222222, 849166.666666667]])"
      ]
     },
     "execution_count": 7,
     "metadata": {},
     "output_type": "execute_result"
    }
   ],
   "source": [
    "N_P"
   ]
  },
  {
   "cell_type": "code",
   "execution_count": 8,
   "id": "fae74864-aaf0-4791-9bb2-d2a3ed22c8c3",
   "metadata": {
    "ExecuteTime": {
     "end_time": "2024-10-29T10:31:57.463889Z",
     "start_time": "2024-10-29T10:31:57.457651Z"
    }
   },
   "outputs": [
    {
     "data": {
      "text/latex": [
       "$\\displaystyle \\left[\\begin{matrix}1.40858331915219 \\cdot 10^{-8} & -3.06391417297809 \\cdot 10^{-6}\\\\-3.06391417297809 \\cdot 10^{-6} & 0.000667632348228882\\end{matrix}\\right]$"
      ],
      "text/plain": [
       "Matrix([\n",
       "[ 1.40858331915219e-8, -3.06391417297809e-6],\n",
       "[-3.06391417297809e-6, 0.000667632348228882]])"
      ]
     },
     "execution_count": 8,
     "metadata": {},
     "output_type": "execute_result"
    }
   ],
   "source": [
    "Q"
   ]
  },
  {
   "cell_type": "code",
   "execution_count": 9,
   "id": "69ecf4c5-0575-4c3f-bcdb-74e747c9de79",
   "metadata": {
    "ExecuteTime": {
     "end_time": "2024-10-29T10:32:03.842973Z",
     "start_time": "2024-10-29T10:32:03.837526Z"
    }
   },
   "outputs": [
    {
     "data": {
      "text/latex": [
       "$\\displaystyle \\left[\\begin{matrix}0.000293863460683497\\\\41.694998124156\\end{matrix}\\right]$"
      ],
      "text/plain": [
       "Matrix([\n",
       "[0.000293863460683497],\n",
       "[     41.694998124156]])"
      ]
     },
     "execution_count": 9,
     "metadata": {},
     "output_type": "execute_result"
    }
   ],
   "source": [
    "x"
   ]
  },
  {
   "cell_type": "code",
   "execution_count": 10,
   "id": "74f7a2a0-c4ce-45db-b0cc-ef25c8a469f9",
   "metadata": {
    "ExecuteTime": {
     "end_time": "2024-11-05T10:07:48.757391Z",
     "start_time": "2024-11-05T10:07:48.752269Z"
    }
   },
   "outputs": [
    {
     "data": {
      "text/latex": [
       "$\\displaystyle \\left[\\begin{matrix}41.7544085000024\\\\41.7549580246738\\\\41.7567035736303\\\\41.7577438502811\\\\41.7581464432223\\\\41.7587694337589\\\\41.7597450604484\\\\41.7611350346174\\\\41.7619637295765\\\\41.7634712491298\\end{matrix}\\right]$"
      ],
      "text/plain": [
       "Matrix([\n",
       "[41.7544085000024],\n",
       "[41.7549580246738],\n",
       "[41.7567035736303],\n",
       "[41.7577438502811],\n",
       "[41.7581464432223],\n",
       "[41.7587694337589],\n",
       "[41.7597450604484],\n",
       "[41.7611350346174],\n",
       "[41.7619637295765],\n",
       "[41.7634712491298]])"
      ]
     },
     "execution_count": 10,
     "metadata": {},
     "output_type": "execute_result"
    }
   ],
   "source": [
    "l"
   ]
  },
  {
   "cell_type": "code",
   "execution_count": 11,
   "id": "71bb6f05-14f1-4e9c-96a3-9d0442b72091",
   "metadata": {
    "ExecuteTime": {
     "end_time": "2024-11-05T10:07:45.770211Z",
     "start_time": "2024-11-05T10:07:45.762649Z"
    }
   },
   "outputs": [
    {
     "data": {
      "text/latex": [
       "$\\displaystyle \\left[\\begin{matrix}0.00159149999764452\\\\0.00104197532616723\\\\-0.00170357363028728\\\\0.00425614971888422\\\\0.00485355677774635\\\\-0.00276943375889971\\\\-0.0017450604483642\\\\-0.00113503461740549\\\\0.00103627042346943\\\\0.00252875087016236\\end{matrix}\\right]$"
      ],
      "text/plain": [
       "Matrix([\n",
       "[ 0.00159149999764452],\n",
       "[ 0.00104197532616723],\n",
       "[-0.00170357363028728],\n",
       "[ 0.00425614971888422],\n",
       "[ 0.00485355677774635],\n",
       "[-0.00276943375889971],\n",
       "[ -0.0017450604483642],\n",
       "[-0.00113503461740549],\n",
       "[ 0.00103627042346943],\n",
       "[ 0.00252875087016236]])"
      ]
     },
     "execution_count": 11,
     "metadata": {},
     "output_type": "execute_result"
    }
   ],
   "source": [
    "v"
   ]
  },
  {
   "cell_type": "code",
   "execution_count": null,
   "id": "cc320e0c-8f64-404b-9698-cde750f3a0e0",
   "metadata": {
    "ExecuteTime": {
     "end_time": "2024-10-29T09:20:58.932043700Z",
     "start_time": "2024-10-29T09:20:58.687808800Z"
    }
   },
   "outputs": [],
   "source": []
  },
  {
   "cell_type": "code",
   "execution_count": null,
   "id": "3bc8491c-1b39-4ca7-9840-cef7d438065f",
   "metadata": {},
   "outputs": [],
   "source": []
  },
  {
   "cell_type": "code",
   "execution_count": null,
   "id": "0987d606-a122-48fc-b716-7492730311b9",
   "metadata": {},
   "outputs": [],
   "source": []
  },
  {
   "cell_type": "code",
   "execution_count": null,
   "id": "ad1460ea-5061-4551-abdf-4ecaab2258b8",
   "metadata": {},
   "outputs": [],
   "source": []
  }
 ],
 "metadata": {
  "kernelspec": {
   "display_name": "Python 3 (ipykernel)",
   "language": "python",
   "name": "python3"
  },
  "language_info": {
   "codemirror_mode": {
    "name": "ipython",
    "version": 3
   },
   "file_extension": ".py",
   "mimetype": "text/x-python",
   "name": "python",
   "nbconvert_exporter": "python",
   "pygments_lexer": "ipython3",
   "version": "3.13.0"
  }
 },
 "nbformat": 4,
 "nbformat_minor": 5
}
