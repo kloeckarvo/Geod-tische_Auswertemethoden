{
 "cells": [
  {
   "cell_type": "code",
   "execution_count": null,
   "id": "043103c2-b166-4b46-9c7a-9fa85d8e4a3d",
   "metadata": {
    "ExecuteTime": {
     "end_time": "2024-10-24T14:59:26.573065700Z",
     "start_time": "2024-10-24T14:59:26.354293600Z"
    }
   },
   "outputs": [],
   "source": [
    "import numpy as np\n",
    "import sympy as sp\n",
    "from sympy import *\n",
    "from IPython.display import display, Math"
   ]
  },
  {
   "cell_type": "markdown",
   "id": "649f55e8-44bd-4f88-8cc2-9489079adc6e",
   "metadata": {
    "collapsed": false,
    "jupyter": {
     "outputs_hidden": false
    }
   },
   "source": [
    "## Szenari\n",
    "Zur Beurteilung der betrieblichen Sicherheit eines Bauwerkes bei den durchgeführten Montagearbeiten werden Höhenmessungen (m) mit einem Nivellier über mehrere Tage durchgeführt.\n"
   ]
  },
  {
   "cell_type": "code",
   "execution_count": null,
   "id": "d15467a9-e50e-4168-b5d3-53238801df4f",
   "metadata": {
    "ExecuteTime": {
     "end_time": "2024-10-24T14:59:26.573065700Z",
     "start_time": "2024-10-24T14:59:26.354293600Z"
    }
   },
   "outputs": [
    {
     "data": {
      "text/latex": [
       "$\\displaystyle \n",
       "\\text{Designmatrix A:} \\\\ A = \\left[\\begin{matrix}121.405 & 1.0\\\\121.404 & 1.0\\\\121.403 & 1.0\\\\121.409 & 1.0\\\\121.411 & 1.0\\\\121.403 & 1.0\\\\121.406 & 1.0\\\\121.407 & 1.0\\\\121.41 & 1.0\\\\121.412 & 1.0\\\\121.416 & 1.0\\\\121.412 & 1.0\\end{matrix}\\right] \\\\\n",
       "\\text{B-Vektor:} \\\\ b = \\left[\\begin{matrix}202.17\\\\204.04\\\\209.98\\\\213.52\\\\214.89\\\\217.01\\\\220.33\\\\225.06\\\\227.88\\\\233.01\\\\234.22\\\\240.09\\end{matrix}\\right] \\\\\n",
       "\\text{Transponierte Designmatrix A\\_T:} \\\\ A\\_T = \\left[\\begin{array}{cccccccccccc}121.405 & 121.404 & 121.403 & 121.409 & 121.411 & 121.403 & 121.406 & 121.407 & 121.41 & 121.412 & 121.416 & 121.412\\\\1.0 & 1.0 & 1.0 & 1.0 & 1.0 & 1.0 & 1.0 & 1.0 & 1.0 & 1.0 & 1.0 & 1.0\\end{array}\\right]\n",
       "$"
      ],
      "text/plain": [
       "<IPython.core.display.Math object>"
      ]
     },
     "metadata": {},
     "output_type": "display_data"
    }
   ],
   "source": [
    "# Designmatrix A (hier: Beizahl y-Achsenabschnitt jeweils = 1, Beobachtungen / Meßwerte = x-Werte)\n",
    "A = Matrix([\n",
    "    [121.405, 1.],\n",
    "    [121.404, 1.],\n",
    "    [121.403, 1.],\n",
    "    [121.409, 1.],\n",
    "    [121.411, 1.],\n",
    "    [121.403, 1.],\n",
    "    [121.406, 1.],\n",
    "    [121.407, 1.],\n",
    "    [121.410, 1.],\n",
    "    [121.412, 1.],\n",
    "    [121.416, 1.],\n",
    "    [121.412, 1.]\n",
    "])\n",
    "\n",
    "# b-Vektor (hier: Zeitangaben = y-Werte)\n",
    "b = Matrix([\n",
    "    [202.17],\n",
    "    [204.04],\n",
    "    [209.98],\n",
    "    [213.52],\n",
    "    [214.89],\n",
    "    [217.01],\n",
    "    [220.33],\n",
    "    [225.06],\n",
    "    [227.88],\n",
    "    [233.01],\n",
    "    [234.22],\n",
    "    [240.09]\n",
    "])\n",
    "\n",
    "# Option 1: Matrix A transponieren, Darstellung in Ausgangsform mit Exponent \"T\" zur Kennzeichnung\n",
    "A.T\n",
    "\n",
    "# LaTeX-Darstellung der Matrizen mit Beschriftungen\n",
    "latex_code = r\"\"\"\n",
    "\\text{Designmatrix A:} \\\\ A = %s \\\\\n",
    "\\text{B-Vektor:} \\\\ b = %s \\\\\n",
    "\\text{Transponierte Designmatrix A\\_T:} \\\\ A\\_T = %s\n",
    "\"\"\" % (sp.latex(A), sp.latex(b), sp.latex(A.T))\n",
    "\n",
    "# Anzeige der kombinierten LaTeX-Darstellung\n",
    "display(Math(latex_code))"
   ]
  },
  {
   "cell_type": "code",
   "execution_count": null,
   "id": "ed64bc02a5bdd25d",
   "metadata": {
    "collapsed": false,
    "jupyter": {
     "outputs_hidden": false
    }
   },
   "outputs": [],
   "source": [
    "# Genauigkeiten = Standardabweichungen für jeden einzelnen Messwert.\n",
    "\n",
    "# 1.) gemessene Höhen außerhalb Design-Matrix (sympy-Matrix)\n",
    "hoehen = Matrix([\n",
    "    [121.405],\n",
    "    [121.404],\n",
    "    [121.403],\n",
    "    [121.409],\n",
    "    [121.411],\n",
    "    [121.403],\n",
    "    [121.406],\n",
    "    [121.407],\n",
    "    [121.410],\n",
    "    [121.412],\n",
    "    [121.416],\n",
    "    [121.412]\n",
    "])\n",
    "\n",
    "# 2.) gemessene Höhen außerhalb Design-Matrix (numpy-Array)\n",
    "hoehen_2 = np.array([\n",
    "    [121.405, 121.404, 121.403, 121.409, 121.411, 121.403, 121.406, 121.407, 121.410, 121.412, 121.416, 121.412]\n",
    "])\n",
    "\n",
    "# Generieren der Gewichtsmatrix P aus den \"mitgelieferten\" Genauigkeiten (= Standardabweichungen)\n",
    "# Gegebene Genauigkeiten (Standardabweichungen)\n",
    "genauigkeiten = sp.Matrix([\n",
    "    [0.005],\n",
    "    [0.003],\n",
    "    [0.003],\n",
    "    [0.005],\n",
    "    [0.005],\n",
    "    [0.003],\n",
    "    [0.003],\n",
    "    [0.003],\n",
    "    [0.003],\n",
    "    [0.004],\n",
    "    [0.005],\n",
    "    [0.003]\n",
    "])"
   ]
  },
  {
   "cell_type": "code",
   "execution_count": 18,
   "id": "1b4453ea8e1c53c5",
   "metadata": {
    "ExecuteTime": {
     "end_time": "2024-10-24T15:03:02.998420300Z",
     "start_time": "2024-10-24T15:03:02.960895Z"
    },
    "collapsed": false,
    "jupyter": {
     "outputs_hidden": false
    }
   },
   "outputs": [
    {
     "data": {
      "text/latex": [
       "$\\displaystyle x^{2}$"
      ],
      "text/plain": [
       "<IPython.core.display.Math object>"
      ]
     },
     "metadata": {},
     "output_type": "display_data"
    },
    {
     "data": {
      "text/latex": [
       "$\\displaystyle \\left[\\begin{matrix}2.5 \\cdot 10^{-5}\\\\9.0 \\cdot 10^{-6}\\\\9.0 \\cdot 10^{-6}\\\\2.5 \\cdot 10^{-5}\\\\2.5 \\cdot 10^{-5}\\\\9.0 \\cdot 10^{-6}\\\\9.0 \\cdot 10^{-6}\\\\9.0 \\cdot 10^{-6}\\\\9.0 \\cdot 10^{-6}\\\\1.6 \\cdot 10^{-5}\\\\2.5 \\cdot 10^{-5}\\\\9.0 \\cdot 10^{-6}\\end{matrix}\\right]$"
      ],
      "text/plain": [
       "<IPython.core.display.Math object>"
      ]
     },
     "metadata": {},
     "output_type": "display_data"
    }
   ],
   "source": [
    "# Berechnung der Varianzen (Die Zeile nimmt jede Standardabweichung in der Matrix genauigkeiten, quadriert sie und speichert das Ergebnis in der Matrix varianzen.)\n",
    "varianzen = genauigkeiten.applyfunc(lambda x: x**2)\n",
    "display(Math(latex(symbols('x')**2)))\n",
    "display(Math(sp.latex(varianzen)))"
   ]
  },
  {
   "cell_type": "code",
   "execution_count": 17,
   "id": "933584d215c3c73e",
   "metadata": {
    "ExecuteTime": {
     "end_time": "2024-10-24T15:02:49.023192300Z",
     "start_time": "2024-10-24T15:02:48.936609800Z"
    },
    "collapsed": false,
    "jupyter": {
     "outputs_hidden": false
    }
   },
   "outputs": [
    {
     "data": {
      "text/latex": [
       "$\\displaystyle \\frac{1}{x}$"
      ],
      "text/plain": [
       "<IPython.core.display.Math object>"
      ]
     },
     "metadata": {},
     "output_type": "display_data"
    },
    {
     "data": {
      "text/latex": [
       "$\\displaystyle \\left[\\begin{matrix}40000.0\\\\111111.111111111\\\\111111.111111111\\\\40000.0\\\\40000.0\\\\111111.111111111\\\\111111.111111111\\\\111111.111111111\\\\111111.111111111\\\\62500.0\\\\40000.0\\\\111111.111111111\\end{matrix}\\right]$"
      ],
      "text/plain": [
       "<IPython.core.display.Math object>"
      ]
     },
     "metadata": {},
     "output_type": "display_data"
    }
   ],
   "source": [
    "# Berechnung der Kehrwerte der Varianzen (Gewichte)\n",
    "gewichte = varianzen.applyfunc(lambda x: 1/x)\n",
    "display(Math(latex(1/symbols('x'))))\n",
    "display(Math(sp.latex(gewichte)))"
   ]
  },
  {
   "cell_type": "code",
   "execution_count": 15,
   "id": "38ac8583f14d3fc4",
   "metadata": {
    "ExecuteTime": {
     "end_time": "2024-10-24T15:01:56.180602300Z",
     "start_time": "2024-10-24T15:01:55.979014600Z"
    },
    "collapsed": false,
    "jupyter": {
     "outputs_hidden": false
    },
    "scrolled": true
   },
   "outputs": [
    {
     "name": "stdout",
     "output_type": "stream",
     "text": [
      "[40000.0, 111111.11111111111, 111111.11111111111, 40000.0, 40000.0, 111111.11111111111, 111111.11111111111, 111111.11111111111, 111111.11111111111, 62500.0, 40000.0, 111111.11111111111]\n"
     ]
    }
   ],
   "source": [
    "# Extrahieren der Diagonalelemente in eine Liste\n",
    "diagonale_gewichte = [float(g[0]) for g in gewichte.tolist()]\n",
    "print(diagonale_gewichte)\n",
    "#display(Math(sp.latex(diagonale_gewichte)))"
   ]
  },
  {
   "cell_type": "code",
   "execution_count": 20,
   "id": "c1038ba2bb26393c",
   "metadata": {
    "ExecuteTime": {
     "end_time": "2024-10-24T15:04:37.724460400Z",
     "start_time": "2024-10-24T15:04:37.656708100Z"
    },
    "collapsed": false,
    "jupyter": {
     "outputs_hidden": false
    }
   },
   "outputs": [
    {
     "name": "stdout",
     "output_type": "stream",
     "text": [
      "Minimum value of diagonal elements: 40000.000000\n",
      "Maximum value of diagonal elements: 111111.111111\n"
     ]
    }
   ],
   "source": [
    "\n",
    "# Berechnung des Minimums und Maximums der Diagonalelemente (Gewichte)\n",
    "P_temp_min = min(diagonale_gewichte)\n",
    "P_temp_max = max(diagonale_gewichte)\n",
    "print(f\"Minimum value of diagonal elements: {P_temp_min:.6f}\")\n",
    "print(f\"Maximum value of diagonal elements: {P_temp_max:.6f}\")"
   ]
  },
  {
   "cell_type": "code",
   "execution_count": 21,
   "id": "9b0fed7eb78f8fdb",
   "metadata": {
    "ExecuteTime": {
     "end_time": "2024-10-24T15:05:03.913967400Z",
     "start_time": "2024-10-24T15:05:03.752775500Z"
    },
    "collapsed": false,
    "jupyter": {
     "outputs_hidden": false
    }
   },
   "outputs": [
    {
     "name": "stdout",
     "output_type": "stream",
     "text": [
      "[0.0, 1.0, 1.0, 0.0, 0.0, 1.0, 1.0, 1.0, 1.0, 0.31640625, 0.0, 1.0]\n"
     ]
    }
   ],
   "source": [
    "# Normalisierung der Diagonalelemente: (P - Min) / (Max - Min)\n",
    "diagonale_gewichte_norm = [(g - P_temp_min) / (P_temp_max - P_temp_min) for g in diagonale_gewichte]\n",
    "print(diagonale_gewichte_norm)"
   ]
  },
  {
   "cell_type": "code",
   "execution_count": 22,
   "id": "258e7d00482e1ba9",
   "metadata": {
    "ExecuteTime": {
     "end_time": "2024-10-24T15:06:12.850168Z",
     "start_time": "2024-10-24T15:06:12.496615700Z"
    },
    "collapsed": false,
    "jupyter": {
     "outputs_hidden": false
    }
   },
   "outputs": [
    {
     "data": {
      "text/latex": [
       "$\\displaystyle \\left[\\begin{array}{cccccccccccc}0.0 & 0 & 0 & 0 & 0 & 0 & 0 & 0 & 0 & 0 & 0 & 0\\\\0 & 1.0 & 0 & 0 & 0 & 0 & 0 & 0 & 0 & 0 & 0 & 0\\\\0 & 0 & 1.0 & 0 & 0 & 0 & 0 & 0 & 0 & 0 & 0 & 0\\\\0 & 0 & 0 & 0.0 & 0 & 0 & 0 & 0 & 0 & 0 & 0 & 0\\\\0 & 0 & 0 & 0 & 0.0 & 0 & 0 & 0 & 0 & 0 & 0 & 0\\\\0 & 0 & 0 & 0 & 0 & 1.0 & 0 & 0 & 0 & 0 & 0 & 0\\\\0 & 0 & 0 & 0 & 0 & 0 & 1.0 & 0 & 0 & 0 & 0 & 0\\\\0 & 0 & 0 & 0 & 0 & 0 & 0 & 1.0 & 0 & 0 & 0 & 0\\\\0 & 0 & 0 & 0 & 0 & 0 & 0 & 0 & 1.0 & 0 & 0 & 0\\\\0 & 0 & 0 & 0 & 0 & 0 & 0 & 0 & 0 & 0.31640625 & 0 & 0\\\\0 & 0 & 0 & 0 & 0 & 0 & 0 & 0 & 0 & 0 & 0.0 & 0\\\\0 & 0 & 0 & 0 & 0 & 0 & 0 & 0 & 0 & 0 & 0 & 1.0\\end{array}\\right]$"
      ],
      "text/plain": [
       "<IPython.core.display.Math object>"
      ]
     },
     "metadata": {},
     "output_type": "display_data"
    }
   ],
   "source": [
    "# Erstellung der Diagonalmatrix mit den normalisierten Diagonalelementen\n",
    "P = sp.diag(*diagonale_gewichte_norm)\n",
    "display(Math(sp.latex(P)))"
   ]
  },
  {
   "cell_type": "code",
   "execution_count": 23,
   "id": "8e83caf226fd60bb",
   "metadata": {
    "ExecuteTime": {
     "end_time": "2024-10-24T15:07:19.186049400Z",
     "start_time": "2024-10-24T15:07:19.050664200Z"
    },
    "collapsed": false,
    "jupyter": {
     "outputs_hidden": false
    }
   },
   "outputs": [
    {
     "data": {
      "text/latex": [
       "$\\displaystyle \\left[\\begin{matrix}176879.31539 & 1456.898\\\\1456.898 & 12.0\\end{matrix}\\right]$"
      ],
      "text/plain": [
       "<IPython.core.display.Math object>"
      ]
     },
     "metadata": {},
     "output_type": "display_data"
    }
   ],
   "source": [
    "\n",
    "# Normalgleichungsmatrix OHNE Gewichte\n",
    "N = A.T * A \n",
    "\n",
    "display(Math(sp.latex(N)))"
   ]
  },
  {
   "cell_type": "code",
   "execution_count": 24,
   "id": "2daca23daf5749d8",
   "metadata": {
    "ExecuteTime": {
     "end_time": "2024-10-24T15:08:07.634319Z",
     "start_time": "2024-10-24T15:08:07.533828600Z"
    },
    "collapsed": false,
    "jupyter": {
     "outputs_hidden": false
    }
   },
   "outputs": [
    {
     "data": {
      "text/latex": [
       "$\\displaystyle \\left[\\begin{matrix}107840.750946062 & 888.260515625\\\\888.260515625 & 7.31640625\\end{matrix}\\right]$"
      ],
      "text/plain": [
       "<IPython.core.display.Math object>"
      ]
     },
     "metadata": {},
     "output_type": "display_data"
    }
   ],
   "source": [
    "# Normalgleichungsmatrix MIT Gewichten\n",
    "N_P = A.T * P * A \n",
    "display(Math(sp.latex(N_P)))"
   ]
  },
  {
   "cell_type": "code",
   "execution_count": 25,
   "id": "d529ce8e96c79bf9",
   "metadata": {
    "ExecuteTime": {
     "end_time": "2024-10-24T15:08:13.601408100Z",
     "start_time": "2024-10-24T15:08:13.484010200Z"
    },
    "collapsed": false,
    "jupyter": {
     "outputs_hidden": false
    }
   },
   "outputs": [
    {
     "data": {
      "text/latex": [
       "$\\displaystyle \\left[\\begin{matrix}12032.0985074657 & -1460777.00705756\\\\-1460777.00705756 & 177348071.466384\\end{matrix}\\right]$"
      ],
      "text/plain": [
       "<IPython.core.display.Math object>"
      ]
     },
     "metadata": {},
     "output_type": "display_data"
    }
   ],
   "source": [
    "# Kofaktormatrix Q aus der invertierten Matrix N_P ( = (A_T * P * A).inv() )\n",
    "Q = N_P.inv()\n",
    "display(Math(sp.latex(Q)))"
   ]
  },
  {
   "cell_type": "markdown",
   "id": "32327404521336b5",
   "metadata": {
    "collapsed": false,
    "jupyter": {
     "outputs_hidden": false
    }
   },
   "source": [
    "Wir haben nun:\n",
    "- Die Designmatrix **A**\n",
    "- die transponierte Designmatrix **A_T**\n",
    "- den Vektor **b**\n",
    "- die Gewichtsmatrix **P**\n",
    "- die Normalgleichungsmatrix **N (bzw. N_P)**\n",
    "- die Kofaktormatrix **Q**\n",
    "- den Vektor der geschätzten Parameter **x**\n",
    "- den Vektor der Modellwerte **l**\n",
    "- Vektor der Verbesserungen **v**."
   ]
  },
  {
   "cell_type": "code",
   "execution_count": 29,
   "id": "88dbe055eacec94f",
   "metadata": {
    "ExecuteTime": {
     "end_time": "2024-10-24T15:14:47.782825200Z",
     "start_time": "2024-10-24T15:14:47.624120400Z"
    },
    "collapsed": false,
    "jupyter": {
     "outputs_hidden": false
    }
   },
   "outputs": [
    {
     "data": {
      "text/latex": [
       "$\\displaystyle \\left[\\begin{matrix}107840.750946062 & 888.260515625\\\\888.260515625 & 7.31640625\\end{matrix}\\right]$"
      ],
      "text/plain": [
       "<IPython.core.display.Math object>"
      ]
     },
     "metadata": {},
     "output_type": "display_data"
    }
   ],
   "source": [
    "# Ermitteln der Parameter (Steigung, y-Achsenabschnitt) für die Geradengleichung\n",
    "ATPA = (A.T * P * A)\n",
    "display(Math(sp.latex(ATPA)))"
   ]
  },
  {
   "cell_type": "code",
   "execution_count": 27,
   "id": "5f69f28f37b02718",
   "metadata": {
    "ExecuteTime": {
     "end_time": "2024-10-24T15:13:44.947228700Z",
     "start_time": "2024-10-24T15:13:44.775650600Z"
    },
    "collapsed": false,
    "jupyter": {
     "outputs_hidden": false
    }
   },
   "outputs": [
    {
     "data": {
      "text/latex": [
       "$\\displaystyle \\left[\\begin{matrix}12032.0985074657 & -1460777.00705756\\\\-1460777.00705756 & 177348071.466384\\end{matrix}\\right]$"
      ],
      "text/plain": [
       "<IPython.core.display.Math object>"
      ]
     },
     "metadata": {},
     "output_type": "display_data"
    }
   ],
   "source": [
    "ATPA_inv = ATPA.inv()\n",
    "display(Math(sp.latex(ATPA_inv)))"
   ]
  },
  {
   "cell_type": "code",
   "execution_count": 26,
   "id": "6d50cd2a6524cbe4",
   "metadata": {
    "ExecuteTime": {
     "end_time": "2024-10-24T15:13:41.353030900Z",
     "start_time": "2024-10-24T15:13:41.016516100Z"
    },
    "collapsed": false,
    "jupyter": {
     "outputs_hidden": false
    }
   },
   "outputs": [
    {
     "data": {
      "text/latex": [
       "$\\displaystyle \\left[\\begin{matrix}2972.81252717972\\\\-360698.105285645\\end{matrix}\\right]$"
      ],
      "text/plain": [
       "<IPython.core.display.Math object>"
      ]
     },
     "metadata": {},
     "output_type": "display_data"
    }
   ],
   "source": [
    "x = ATPA_inv * (A.T * P * b)\n",
    "display(Math(sp.latex(x)))"
   ]
  },
  {
   "cell_type": "code",
   "execution_count": null,
   "id": "92dc865b9da12ba5",
   "metadata": {
    "collapsed": false,
    "jupyter": {
     "outputs_hidden": false
    }
   },
   "outputs": [],
   "source": [
    "# Vektor der geschätzten Modellwerte (l)\n",
    "l = A * x\n",
    "\n",
    "# Vektor der Verbesserungen (v)\n",
    "v = b - l\n",
    "\n",
    "# Probe: Geradengleichung als Funktion definieren, bekannten x-Wert wählen: y-Wert passend? (Achtung: Verbesserung berücksichtigt, \n",
    "# deshalb ist hier nicht mehr der y-Ausgangswert aus der Tabelle zu erwarten!)\n",
    "def lineare_funktion(x, m, n):\n",
    "    return m * x + n\n",
    "\n",
    "# Steigung (m) und y-Achsenabschnitt (n)\n",
    "m = 2972.81245517731  # Steigung\n",
    "n = -360698.096679688  # y-Achsenabschnitt\n",
    "\n",
    "# Beispiel für einen gegebenen x-Wert\n",
    "x_wert = 121.412\n",
    "\n",
    "# Berechnung des y-Wertes\n",
    "y_wert = lineare_funktion(x_wert, m, n)\n",
    "\n",
    "# Ausgabe des Ergebnisses\n",
    "print(f\"Für den x-Ausgangswert = {x_wert:.3f} beträgt der (verbesserte) y-Wert: {y_wert:.3f}\")\n",
    "# Display the formulas\n",
    "display(Math(sp.latex(varianzen)))\n",
    "display(Math(sp.latex(gewichte)))\n",
    "display(Math(sp.latex(P)))\n",
    "# Funktionsgleichung: f(x) = 2972.81245x - 360698.096679688"
   ]
  },
  {
   "cell_type": "code",
   "execution_count": null,
   "id": "46b4b55426fe88b",
   "metadata": {
    "collapsed": false,
    "jupyter": {
     "outputs_hidden": false
    }
   },
   "outputs": [],
   "source": []
  }
 ],
 "metadata": {
  "kernelspec": {
   "display_name": "Python 3 (ipykernel)",
   "language": "python",
   "name": "python3"
  },
  "language_info": {
   "codemirror_mode": {
    "name": "ipython",
    "version": 3
   },
   "file_extension": ".py",
   "mimetype": "text/x-python",
   "name": "python",
   "nbconvert_exporter": "python",
   "pygments_lexer": "ipython3",
   "version": "3.10.8"
  }
 },
 "nbformat": 4,
 "nbformat_minor": 5
}
