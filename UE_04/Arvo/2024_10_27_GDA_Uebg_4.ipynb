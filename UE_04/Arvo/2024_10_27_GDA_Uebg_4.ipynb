{
 "cells": [
  {
   "cell_type": "code",
   "execution_count": 12,
   "id": "92c3f1ba-36c6-4e21-bb0e-8b569cf1095c",
   "metadata": {
    "ExecuteTime": {
     "end_time": "2024-10-29T09:30:39.247375900Z",
     "start_time": "2024-10-29T09:30:38.972222700Z"
    }
   },
   "outputs": [
    {
     "name": "stdout",
     "output_type": "stream",
     "text": [
      "Für den x-Ausgangswert = 234.220 beträgt der (verbesserte) y-Wert: 102.698\n",
      "Funktionsgleichung: f(x) = -0.00043x + 102.79799\n"
     ]
    }
   ],
   "source": [
    "import numpy as np\n",
    "import sympy as sp\n",
    "from sympy import Matrix, Transpose\n",
    "\n",
    "# Designmatrix A\n",
    "A = Matrix([\n",
    "    [202.17, 1.],\n",
    "    [204.04, 1.],\n",
    "    [209.98, 1.],\n",
    "    [213.52, 1.],\n",
    "    [214.89, 1.],\n",
    "    [217.01, 1.],\n",
    "    [220.33, 1.],\n",
    "    [225.06, 1.],\n",
    "    [227.88, 1.],\n",
    "    [233.01, 1.],\n",
    "    [234.22, 1.]\n",
    "])\n",
    "\n",
    "# b-Vektor (Messwerte)\n",
    "b = Matrix([\n",
    "    [102.713],\n",
    "    [102.712],\n",
    "    [102.707],\n",
    "    [102.710],\n",
    "    [102.711],\n",
    "    [102.702],\n",
    "    [102.702],\n",
    "    [102.700],\n",
    "    [102.701],\n",
    "    [102.699],\n",
    "    [102.703]\n",
    "])\n",
    "\n",
    "# Genauigkeiten (Standardabweichungen)\n",
    "genauigkeiten = Matrix([\n",
    "    [0.005],\n",
    "    [0.003],\n",
    "    [0.003],\n",
    "    [0.005],\n",
    "    [0.005],\n",
    "    [0.003],\n",
    "    [0.003],\n",
    "    [0.003],\n",
    "    [0.003],\n",
    "    [0.004],\n",
    "    [0.005]\n",
    "])\n",
    "\n",
    "# Berechnung der Varianzen (quadrierte Standardabweichungen)\n",
    "varianzen = genauigkeiten.applyfunc(lambda x: x**2)\n",
    "\n",
    "# Berechnung der Kehrwerte der Varianzen (Gewichte)\n",
    "gewichte = varianzen.applyfunc(lambda x: 1/x)\n",
    "\n",
    "# Gewichtsmatrix P\n",
    "P = sp.diag(*gewichte)\n",
    "\n",
    "# Berechnung der transponierten Matrix A\n",
    "A_T = A.T\n",
    "\n",
    "# Normalgleichungsmatrix mit und ohne Gewichte\n",
    "N = A_T * A\n",
    "N_P = A_T * P * A\n",
    "\n",
    "# Kofaktormatrix Q aus der invertierten Matrix N_P\n",
    "Q = N_P.inv()\n",
    "\n",
    "# Berechnung der Koeffizienten (Steigung m und Achsenabschnitt n) für die Geradengleichung\n",
    "ATPA = A_T * P * A\n",
    "ATPA_inv = ATPA.inv()\n",
    "x = ATPA_inv * (A_T * P * b)\n",
    "\n",
    "# Parameter der Geraden (x[0] = m, x[1] = n)\n",
    "m = x[0]\n",
    "n = x[1]\n",
    "\n",
    "# Vektor der geschätzten Modellwerte (l)\n",
    "l = A * x\n",
    "\n",
    "# Vektor der Verbesserungen (v)\n",
    "v = b - l\n",
    "\n",
    "# Probe: Geradengleichung für einen gegebenen x-Wert\n",
    "def lineare_funktion(x_wert, m, n):\n",
    "    return m * x_wert + n\n",
    "\n",
    "# Beispiel x-Wert zur Berechnung\n",
    "x_wert = 234.22\n",
    "y_wert = lineare_funktion(x_wert, m, n)\n",
    "\n",
    "# Ausgabe des Ergebnisses\n",
    "print(f\"Für den x-Ausgangswert = {x_wert:.3f} beträgt der (verbesserte) y-Wert: {y_wert:.3f}\")\n",
    "print(f\"Funktionsgleichung: f(x) = {m:.5f}x + {n:.5f}\")\n"
   ]
  },
  {
   "cell_type": "code",
   "execution_count": 13,
   "id": "801e8b2f-d258-4af2-a395-5043c9dd1210",
   "metadata": {
    "ExecuteTime": {
     "end_time": "2024-10-29T09:30:39.279355400Z",
     "start_time": "2024-10-29T09:30:39.066621700Z"
    }
   },
   "outputs": [
    {
     "data": {
      "text/plain": "Matrix([\n[202.17, 1.0],\n[204.04, 1.0],\n[209.98, 1.0],\n[213.52, 1.0],\n[214.89, 1.0],\n[217.01, 1.0],\n[220.33, 1.0],\n[225.06, 1.0],\n[227.88, 1.0],\n[233.01, 1.0],\n[234.22, 1.0]])",
      "text/latex": "$\\displaystyle \\left[\\begin{matrix}202.17 & 1.0\\\\204.04 & 1.0\\\\209.98 & 1.0\\\\213.52 & 1.0\\\\214.89 & 1.0\\\\217.01 & 1.0\\\\220.33 & 1.0\\\\225.06 & 1.0\\\\227.88 & 1.0\\\\233.01 & 1.0\\\\234.22 & 1.0\\end{matrix}\\right]$"
     },
     "execution_count": 13,
     "metadata": {},
     "output_type": "execute_result"
    }
   ],
   "source": [
    "A"
   ]
  },
  {
   "cell_type": "code",
   "execution_count": 14,
   "id": "f71988d6-e1ea-40bf-809b-bd1ad32b098b",
   "metadata": {
    "ExecuteTime": {
     "end_time": "2024-10-29T09:30:39.283033Z",
     "start_time": "2024-10-29T09:30:39.110572600Z"
    }
   },
   "outputs": [
    {
     "data": {
      "text/plain": "Matrix([\n[202.17, 204.04, 209.98, 213.52, 214.89, 217.01, 220.33, 225.06, 227.88, 233.01, 234.22],\n[   1.0,    1.0,    1.0,    1.0,    1.0,    1.0,    1.0,    1.0,    1.0,    1.0,    1.0]])",
      "text/latex": "$\\displaystyle \\left[\\begin{array}{ccccccccccc}202.17 & 204.04 & 209.98 & 213.52 & 214.89 & 217.01 & 220.33 & 225.06 & 227.88 & 233.01 & 234.22\\\\1.0 & 1.0 & 1.0 & 1.0 & 1.0 & 1.0 & 1.0 & 1.0 & 1.0 & 1.0 & 1.0\\end{array}\\right]$"
     },
     "execution_count": 14,
     "metadata": {},
     "output_type": "execute_result"
    }
   ],
   "source": [
    "A.T"
   ]
  },
  {
   "cell_type": "code",
   "execution_count": 15,
   "id": "e65f15a7-dec3-4e08-9c9a-9c2d7db9ddea",
   "metadata": {
    "ExecuteTime": {
     "end_time": "2024-10-29T09:30:39.283033Z",
     "start_time": "2024-10-29T09:30:39.138336Z"
    }
   },
   "outputs": [
    {
     "data": {
      "text/plain": "Matrix([\n[102.713],\n[102.712],\n[102.707],\n[ 102.71],\n[102.711],\n[102.702],\n[102.702],\n[  102.7],\n[102.701],\n[102.699],\n[102.703]])",
      "text/latex": "$\\displaystyle \\left[\\begin{matrix}102.713\\\\102.712\\\\102.707\\\\102.71\\\\102.711\\\\102.702\\\\102.702\\\\102.7\\\\102.701\\\\102.699\\\\102.703\\end{matrix}\\right]$"
     },
     "execution_count": 15,
     "metadata": {},
     "output_type": "execute_result"
    }
   ],
   "source": [
    "b"
   ]
  },
  {
   "cell_type": "code",
   "execution_count": 16,
   "id": "0bb6cb9e-39a9-44cb-ab17-a8b4f654dbfa",
   "metadata": {
    "ExecuteTime": {
     "end_time": "2024-10-29T09:30:39.290303100Z",
     "start_time": "2024-10-29T09:30:39.152330800Z"
    }
   },
   "outputs": [
    {
     "data": {
      "text/plain": "Matrix([\n[40000.0,                0,                0,       0,       0,                0,                0,                0,                0,       0,       0],\n[      0, 111111.111111111,                0,       0,       0,                0,                0,                0,                0,       0,       0],\n[      0,                0, 111111.111111111,       0,       0,                0,                0,                0,                0,       0,       0],\n[      0,                0,                0, 40000.0,       0,                0,                0,                0,                0,       0,       0],\n[      0,                0,                0,       0, 40000.0,                0,                0,                0,                0,       0,       0],\n[      0,                0,                0,       0,       0, 111111.111111111,                0,                0,                0,       0,       0],\n[      0,                0,                0,       0,       0,                0, 111111.111111111,                0,                0,       0,       0],\n[      0,                0,                0,       0,       0,                0,                0, 111111.111111111,                0,       0,       0],\n[      0,                0,                0,       0,       0,                0,                0,                0, 111111.111111111,       0,       0],\n[      0,                0,                0,       0,       0,                0,                0,                0,                0, 62500.0,       0],\n[      0,                0,                0,       0,       0,                0,                0,                0,                0,       0, 40000.0]])",
      "text/latex": "$\\displaystyle \\left[\\begin{array}{ccccccccccc}40000.0 & 0 & 0 & 0 & 0 & 0 & 0 & 0 & 0 & 0 & 0\\\\0 & 111111.111111111 & 0 & 0 & 0 & 0 & 0 & 0 & 0 & 0 & 0\\\\0 & 0 & 111111.111111111 & 0 & 0 & 0 & 0 & 0 & 0 & 0 & 0\\\\0 & 0 & 0 & 40000.0 & 0 & 0 & 0 & 0 & 0 & 0 & 0\\\\0 & 0 & 0 & 0 & 40000.0 & 0 & 0 & 0 & 0 & 0 & 0\\\\0 & 0 & 0 & 0 & 0 & 111111.111111111 & 0 & 0 & 0 & 0 & 0\\\\0 & 0 & 0 & 0 & 0 & 0 & 111111.111111111 & 0 & 0 & 0 & 0\\\\0 & 0 & 0 & 0 & 0 & 0 & 0 & 111111.111111111 & 0 & 0 & 0\\\\0 & 0 & 0 & 0 & 0 & 0 & 0 & 0 & 111111.111111111 & 0 & 0\\\\0 & 0 & 0 & 0 & 0 & 0 & 0 & 0 & 0 & 62500.0 & 0\\\\0 & 0 & 0 & 0 & 0 & 0 & 0 & 0 & 0 & 0 & 40000.0\\end{array}\\right]$"
     },
     "execution_count": 16,
     "metadata": {},
     "output_type": "execute_result"
    }
   ],
   "source": [
    "P"
   ]
  },
  {
   "cell_type": "code",
   "execution_count": 17,
   "id": "bcd1a18f-f86b-43c0-ad1c-b47b12d83940",
   "metadata": {
    "ExecuteTime": {
     "end_time": "2024-10-29T09:30:39.292779600Z",
     "start_time": "2024-10-29T09:30:39.185873500Z"
    }
   },
   "outputs": [
    {
     "data": {
      "text/plain": "Matrix([\n[525737.7489, 2402.11],\n[    2402.11,    11.0]])",
      "text/latex": "$\\displaystyle \\left[\\begin{matrix}525737.7489 & 2402.11\\\\2402.11 & 11.0\\end{matrix}\\right]$"
     },
     "execution_count": 17,
     "metadata": {},
     "output_type": "execute_result"
    }
   ],
   "source": [
    "N"
   ]
  },
  {
   "cell_type": "code",
   "execution_count": 18,
   "id": "0499f921-dd91-4d5f-bf92-42f7b006e53e",
   "metadata": {
    "ExecuteTime": {
     "end_time": "2024-10-29T09:30:39.294331700Z",
     "start_time": "2024-10-29T09:30:39.200912600Z"
    }
   },
   "outputs": [
    {
     "data": {
      "text/plain": "Matrix([\n[42442681326.0278, 194077347.222222],\n[194077347.222222, 889166.666666667]])",
      "text/latex": "$\\displaystyle \\left[\\begin{matrix}42442681326.0278 & 194077347.222222\\\\194077347.222222 & 889166.666666667\\end{matrix}\\right]$"
     },
     "execution_count": 18,
     "metadata": {},
     "output_type": "execute_result"
    }
   ],
   "source": [
    "N_P"
   ]
  },
  {
   "cell_type": "code",
   "execution_count": 19,
   "id": "fae74864-aaf0-4791-9bb2-d2a3ed22c8c3",
   "metadata": {
    "ExecuteTime": {
     "end_time": "2024-10-29T09:30:39.295522Z",
     "start_time": "2024-10-29T09:30:39.216519400Z"
    }
   },
   "outputs": [
    {
     "data": {
      "text/plain": "Matrix([\n[ 1.22473441353362e-8, -2.67321318872017e-6],\n[-2.67321318872017e-6, 0.000584603701097959]])",
      "text/latex": "$\\displaystyle \\left[\\begin{matrix}1.22473441353362 \\cdot 10^{-8} & -2.67321318872017 \\cdot 10^{-6}\\\\-2.67321318872017 \\cdot 10^{-6} & 0.000584603701097959\\end{matrix}\\right]$"
     },
     "execution_count": 19,
     "metadata": {},
     "output_type": "execute_result"
    }
   ],
   "source": [
    "Q"
   ]
  },
  {
   "cell_type": "code",
   "execution_count": 20,
   "id": "69ecf4c5-0575-4c3f-bcdb-74e747c9de79",
   "metadata": {
    "ExecuteTime": {
     "end_time": "2024-10-29T09:30:39.326668500Z",
     "start_time": "2024-10-29T09:30:39.230583900Z"
    }
   },
   "outputs": [
    {
     "data": {
      "text/plain": "Matrix([\n[-0.000427887073840338],\n[     102.797987653074]])",
      "text/latex": "$\\displaystyle \\left[\\begin{matrix}-0.000427887073840338\\\\102.797987653074\\end{matrix}\\right]$"
     },
     "execution_count": 20,
     "metadata": {},
     "output_type": "execute_result"
    }
   ],
   "source": [
    "x"
   ]
  },
  {
   "cell_type": "code",
   "execution_count": 21,
   "id": "74f7a2a0-c4ce-45db-b0cc-ef25c8a469f9",
   "metadata": {
    "ExecuteTime": {
     "end_time": "2024-10-29T09:30:39.530523100Z",
     "start_time": "2024-10-29T09:30:39.256060800Z"
    }
   },
   "outputs": [
    {
     "data": {
      "text/plain": "Matrix([\n[102.711481723355],\n[102.710681574527],\n[102.708139925309],\n[102.706625205067],\n[102.706038999776],\n[102.705131879179],\n[102.703711294094],\n[102.701687388235],\n[102.700480746687],\n[102.698285685998],\n[102.697767942639]])",
      "text/latex": "$\\displaystyle \\left[\\begin{matrix}102.711481723355\\\\102.710681574527\\\\102.708139925309\\\\102.706625205067\\\\102.706038999776\\\\102.705131879179\\\\102.703711294094\\\\102.701687388235\\\\102.700480746687\\\\102.698285685998\\\\102.697767942639\\end{matrix}\\right]$"
     },
     "execution_count": 21,
     "metadata": {},
     "output_type": "execute_result"
    }
   ],
   "source": [
    "l"
   ]
  },
  {
   "cell_type": "code",
   "execution_count": 22,
   "id": "71bb6f05-14f1-4e9c-96a3-9d0442b72091",
   "metadata": {
    "ExecuteTime": {
     "end_time": "2024-10-29T09:30:39.630734200Z",
     "start_time": "2024-10-29T09:30:39.279355400Z"
    }
   },
   "outputs": [
    {
     "data": {
      "text/plain": "Matrix([\n[ 0.00151827664478787],\n[  0.0013184254728742],\n[-0.00113992530852158],\n[ 0.00337479493288129],\n[ 0.00496100022404278],\n[-0.00313187917942059],\n[-0.00171129409426385],\n[-0.00168738823499837],\n[0.000519253313228774],\n[0.000714314002024707],\n[ 0.00523205736138266]])",
      "text/latex": "$\\displaystyle \\left[\\begin{matrix}0.00151827664478787\\\\0.0013184254728742\\\\-0.00113992530852158\\\\0.00337479493288129\\\\0.00496100022404278\\\\-0.00313187917942059\\\\-0.00171129409426385\\\\-0.00168738823499837\\\\0.000519253313228774\\\\0.000714314002024707\\\\0.00523205736138266\\end{matrix}\\right]$"
     },
     "execution_count": 22,
     "metadata": {},
     "output_type": "execute_result"
    }
   ],
   "source": [
    "v"
   ]
  },
  {
   "cell_type": "code",
   "execution_count": 22,
   "id": "cc320e0c-8f64-404b-9698-cde750f3a0e0",
   "metadata": {
    "ExecuteTime": {
     "end_time": "2024-10-29T09:30:39.630734200Z",
     "start_time": "2024-10-29T09:30:39.302652300Z"
    }
   },
   "outputs": [],
   "source": []
  }
 ],
 "metadata": {
  "kernelspec": {
   "display_name": "Python 3 (ipykernel)",
   "language": "python",
   "name": "python3"
  },
  "language_info": {
   "codemirror_mode": {
    "name": "ipython",
    "version": 3
   },
   "file_extension": ".py",
   "mimetype": "text/x-python",
   "name": "python",
   "nbconvert_exporter": "python",
   "pygments_lexer": "ipython3",
   "version": "3.10.8"
  }
 },
 "nbformat": 4,
 "nbformat_minor": 5
}
