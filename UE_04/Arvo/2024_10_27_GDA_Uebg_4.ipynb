{
 "cells": [
  {
   "cell_type": "code",
   "execution_count": 1,
   "id": "92c3f1ba-36c6-4e21-bb0e-8b569cf1095c",
   "metadata": {
    "ExecuteTime": {
     "end_time": "2024-10-29T09:20:58.385253400Z",
     "start_time": "2024-10-29T09:20:55.009166100Z"
    }
   },
   "outputs": [
    {
     "name": "stdout",
     "output_type": "stream",
     "text": [
      "Für den x-Ausgangswert = 240.090 beträgt der (verbesserte) y-Wert: -0.428\n",
      "Funktionsgleichung: f(x) = -0.00000x + -0.42789\n"
     ]
    }
   ],
   "source": [
    "import numpy as np\n",
    "import sympy as sp\n",
    "from sympy import Matrix, Transpose\n",
    "\n",
    "# Designmatrix A\n",
    "A = Matrix([\n",
    "    [202.17, 1.],\n",
    "    [204.04, 1.],\n",
    "    [209.98, 1.],\n",
    "    [213.52, 1.],\n",
    "    [214.89, 1.],\n",
    "    [217.01, 1.],\n",
    "    [220.33, 1.],\n",
    "    [225.06, 1.],\n",
    "    [227.88, 1.],\n",
    "    [233.01, 1.],\n",
    "    [234.22, 1.]\n",
    "])\n",
    "\n",
    "# b-Vektor (Messwerte)\n",
    "b = Matrix([\n",
    "    [102,713],\n",
    "    [102,712],\n",
    "    [102,707],\n",
    "    [102,710],\n",
    "    [102,711],\n",
    "    [102,702],\n",
    "    [102,702],\n",
    "    [102,700],\n",
    "    [102,701],\n",
    "    [102,699],\n",
    "    [102,703]\n",
    "])\n",
    "\n",
    "# Genauigkeiten (Standardabweichungen)\n",
    "genauigkeiten = Matrix([\n",
    "    [0.005],\n",
    "    [0.003],\n",
    "    [0.003],\n",
    "    [0.005],\n",
    "    [0.005],\n",
    "    [0.003],\n",
    "    [0.003],\n",
    "    [0.003],\n",
    "    [0.003],\n",
    "    [0.004],\n",
    "    [0.005]\n",
    "])\n",
    "\n",
    "# Berechnung der Varianzen (quadrierte Standardabweichungen)\n",
    "varianzen = genauigkeiten.applyfunc(lambda x: x**2)\n",
    "\n",
    "# Berechnung der Kehrwerte der Varianzen (Gewichte)\n",
    "gewichte = varianzen.applyfunc(lambda x: 1/x)\n",
    "\n",
    "# Gewichtsmatrix P\n",
    "P = sp.diag(*gewichte)\n",
    "\n",
    "# Berechnung der transponierten Matrix A\n",
    "A_T = A.T\n",
    "\n",
    "# Normalgleichungsmatrix mit und ohne Gewichte\n",
    "N = A_T * A\n",
    "N_P = A_T * P * A\n",
    "\n",
    "# Kofaktormatrix Q aus der invertierten Matrix N_P\n",
    "Q = N_P.inv()\n",
    "\n",
    "# Berechnung der Koeffizienten (Steigung m und Achsenabschnitt n) für die Geradengleichung\n",
    "ATPA = A_T * P * A\n",
    "ATPA_inv = ATPA.inv()\n",
    "x = ATPA_inv * (A_T * P * b)\n",
    "\n",
    "# Parameter der Geraden (x[0] = m, x[1] = n)\n",
    "m = x[0]\n",
    "n = x[1]\n",
    "\n",
    "# Vektor der geschätzten Modellwerte (l)\n",
    "l = A * x\n",
    "\n",
    "# Vektor der Verbesserungen (v)\n",
    "v = b - l\n",
    "\n",
    "# Probe: Geradengleichung für einen gegebenen x-Wert\n",
    "def lineare_funktion(x_wert, m, n):\n",
    "    return m * x_wert + n\n",
    "\n",
    "# Beispiel x-Wert zur Berechnung\n",
    "x_wert = 240.09\n",
    "y_wert = lineare_funktion(x_wert, m, n)\n",
    "\n",
    "# Ausgabe des Ergebnisses\n",
    "print(f\"Für den x-Ausgangswert = {x_wert:.3f} beträgt der (verbesserte) y-Wert: {y_wert:.3f}\")\n",
    "print(f\"Funktionsgleichung: f(x) = {m:.5f}x + {n:.5f}\")\n"
   ]
  },
  {
   "cell_type": "code",
   "execution_count": 2,
   "id": "801e8b2f-d258-4af2-a395-5043c9dd1210",
   "metadata": {
    "ExecuteTime": {
     "end_time": "2024-10-29T09:20:58.591772900Z",
     "start_time": "2024-10-29T09:20:58.388575300Z"
    }
   },
   "outputs": [
    {
     "data": {
      "text/plain": "Matrix([\n[202.17, 1.0],\n[204.04, 1.0],\n[209.98, 1.0],\n[213.52, 1.0],\n[214.89, 1.0],\n[217.01, 1.0],\n[220.33, 1.0],\n[225.06, 1.0],\n[227.88, 1.0],\n[233.01, 1.0],\n[234.22, 1.0]])",
      "text/latex": "$\\displaystyle \\left[\\begin{matrix}202.17 & 1.0\\\\204.04 & 1.0\\\\209.98 & 1.0\\\\213.52 & 1.0\\\\214.89 & 1.0\\\\217.01 & 1.0\\\\220.33 & 1.0\\\\225.06 & 1.0\\\\227.88 & 1.0\\\\233.01 & 1.0\\\\234.22 & 1.0\\end{matrix}\\right]$"
     },
     "execution_count": 2,
     "metadata": {},
     "output_type": "execute_result"
    }
   ],
   "source": [
    "A"
   ]
  },
  {
   "cell_type": "code",
   "execution_count": 3,
   "id": "f71988d6-e1ea-40bf-809b-bd1ad32b098b",
   "metadata": {
    "ExecuteTime": {
     "end_time": "2024-10-29T09:20:58.642629700Z",
     "start_time": "2024-10-29T09:20:58.407239600Z"
    }
   },
   "outputs": [
    {
     "data": {
      "text/plain": "Matrix([\n[202.17, 204.04, 209.98, 213.52, 214.89, 217.01, 220.33, 225.06, 227.88, 233.01, 234.22],\n[   1.0,    1.0,    1.0,    1.0,    1.0,    1.0,    1.0,    1.0,    1.0,    1.0,    1.0]])",
      "text/latex": "$\\displaystyle \\left[\\begin{array}{ccccccccccc}202.17 & 204.04 & 209.98 & 213.52 & 214.89 & 217.01 & 220.33 & 225.06 & 227.88 & 233.01 & 234.22\\\\1.0 & 1.0 & 1.0 & 1.0 & 1.0 & 1.0 & 1.0 & 1.0 & 1.0 & 1.0 & 1.0\\end{array}\\right]$"
     },
     "execution_count": 3,
     "metadata": {},
     "output_type": "execute_result"
    }
   ],
   "source": [
    "A.T"
   ]
  },
  {
   "cell_type": "code",
   "execution_count": 4,
   "id": "e65f15a7-dec3-4e08-9c9a-9c2d7db9ddea",
   "metadata": {
    "ExecuteTime": {
     "end_time": "2024-10-29T09:20:58.642629700Z",
     "start_time": "2024-10-29T09:20:58.454762700Z"
    }
   },
   "outputs": [
    {
     "data": {
      "text/plain": "Matrix([\n[102, 713],\n[102, 712],\n[102, 707],\n[102, 710],\n[102, 711],\n[102, 702],\n[102, 702],\n[102, 700],\n[102, 701],\n[102, 699],\n[102, 703]])",
      "text/latex": "$\\displaystyle \\left[\\begin{matrix}102 & 713\\\\102 & 712\\\\102 & 707\\\\102 & 710\\\\102 & 711\\\\102 & 702\\\\102 & 702\\\\102 & 700\\\\102 & 701\\\\102 & 699\\\\102 & 703\\end{matrix}\\right]$"
     },
     "execution_count": 4,
     "metadata": {},
     "output_type": "execute_result"
    }
   ],
   "source": [
    "b"
   ]
  },
  {
   "cell_type": "code",
   "execution_count": 5,
   "id": "0bb6cb9e-39a9-44cb-ab17-a8b4f654dbfa",
   "metadata": {
    "ExecuteTime": {
     "end_time": "2024-10-29T09:20:58.648309700Z",
     "start_time": "2024-10-29T09:20:58.486113600Z"
    }
   },
   "outputs": [
    {
     "data": {
      "text/plain": "Matrix([\n[40000.0,                0,                0,       0,       0,                0,                0,                0,                0,       0,       0],\n[      0, 111111.111111111,                0,       0,       0,                0,                0,                0,                0,       0,       0],\n[      0,                0, 111111.111111111,       0,       0,                0,                0,                0,                0,       0,       0],\n[      0,                0,                0, 40000.0,       0,                0,                0,                0,                0,       0,       0],\n[      0,                0,                0,       0, 40000.0,                0,                0,                0,                0,       0,       0],\n[      0,                0,                0,       0,       0, 111111.111111111,                0,                0,                0,       0,       0],\n[      0,                0,                0,       0,       0,                0, 111111.111111111,                0,                0,       0,       0],\n[      0,                0,                0,       0,       0,                0,                0, 111111.111111111,                0,       0,       0],\n[      0,                0,                0,       0,       0,                0,                0,                0, 111111.111111111,       0,       0],\n[      0,                0,                0,       0,       0,                0,                0,                0,                0, 62500.0,       0],\n[      0,                0,                0,       0,       0,                0,                0,                0,                0,       0, 40000.0]])",
      "text/latex": "$\\displaystyle \\left[\\begin{array}{ccccccccccc}40000.0 & 0 & 0 & 0 & 0 & 0 & 0 & 0 & 0 & 0 & 0\\\\0 & 111111.111111111 & 0 & 0 & 0 & 0 & 0 & 0 & 0 & 0 & 0\\\\0 & 0 & 111111.111111111 & 0 & 0 & 0 & 0 & 0 & 0 & 0 & 0\\\\0 & 0 & 0 & 40000.0 & 0 & 0 & 0 & 0 & 0 & 0 & 0\\\\0 & 0 & 0 & 0 & 40000.0 & 0 & 0 & 0 & 0 & 0 & 0\\\\0 & 0 & 0 & 0 & 0 & 111111.111111111 & 0 & 0 & 0 & 0 & 0\\\\0 & 0 & 0 & 0 & 0 & 0 & 111111.111111111 & 0 & 0 & 0 & 0\\\\0 & 0 & 0 & 0 & 0 & 0 & 0 & 111111.111111111 & 0 & 0 & 0\\\\0 & 0 & 0 & 0 & 0 & 0 & 0 & 0 & 111111.111111111 & 0 & 0\\\\0 & 0 & 0 & 0 & 0 & 0 & 0 & 0 & 0 & 62500.0 & 0\\\\0 & 0 & 0 & 0 & 0 & 0 & 0 & 0 & 0 & 0 & 40000.0\\end{array}\\right]$"
     },
     "execution_count": 5,
     "metadata": {},
     "output_type": "execute_result"
    }
   ],
   "source": [
    "P"
   ]
  },
  {
   "cell_type": "code",
   "execution_count": 6,
   "id": "bcd1a18f-f86b-43c0-ad1c-b47b12d83940",
   "metadata": {
    "ExecuteTime": {
     "end_time": "2024-10-29T09:20:58.680954100Z",
     "start_time": "2024-10-29T09:20:58.515203800Z"
    }
   },
   "outputs": [
    {
     "data": {
      "text/plain": "Matrix([\n[525737.7489, 2402.11],\n[    2402.11,    11.0]])",
      "text/latex": "$\\displaystyle \\left[\\begin{matrix}525737.7489 & 2402.11\\\\2402.11 & 11.0\\end{matrix}\\right]$"
     },
     "execution_count": 6,
     "metadata": {},
     "output_type": "execute_result"
    }
   ],
   "source": [
    "N"
   ]
  },
  {
   "cell_type": "code",
   "execution_count": 7,
   "id": "0499f921-dd91-4d5f-bf92-42f7b006e53e",
   "metadata": {
    "ExecuteTime": {
     "end_time": "2024-10-29T09:20:58.681465200Z",
     "start_time": "2024-10-29T09:20:58.576226800Z"
    }
   },
   "outputs": [
    {
     "data": {
      "text/plain": "Matrix([\n[42442681326.0278, 194077347.222222],\n[194077347.222222, 889166.666666667]])",
      "text/latex": "$\\displaystyle \\left[\\begin{matrix}42442681326.0278 & 194077347.222222\\\\194077347.222222 & 889166.666666667\\end{matrix}\\right]$"
     },
     "execution_count": 7,
     "metadata": {},
     "output_type": "execute_result"
    }
   ],
   "source": [
    "N_P"
   ]
  },
  {
   "cell_type": "code",
   "execution_count": 8,
   "id": "fae74864-aaf0-4791-9bb2-d2a3ed22c8c3",
   "metadata": {
    "ExecuteTime": {
     "end_time": "2024-10-29T09:20:58.704115400Z",
     "start_time": "2024-10-29T09:20:58.587330300Z"
    }
   },
   "outputs": [
    {
     "data": {
      "text/plain": "Matrix([\n[ 1.22473441353362e-8, -2.67321318872017e-6],\n[-2.67321318872017e-6, 0.000584603701097959]])",
      "text/latex": "$\\displaystyle \\left[\\begin{matrix}1.22473441353362 \\cdot 10^{-8} & -2.67321318872017 \\cdot 10^{-6}\\\\-2.67321318872017 \\cdot 10^{-6} & 0.000584603701097959\\end{matrix}\\right]$"
     },
     "execution_count": 8,
     "metadata": {},
     "output_type": "execute_result"
    }
   ],
   "source": [
    "Q"
   ]
  },
  {
   "cell_type": "code",
   "execution_count": 9,
   "id": "69ecf4c5-0575-4c3f-bcdb-74e747c9de79",
   "metadata": {
    "ExecuteTime": {
     "end_time": "2024-10-29T09:20:58.843737900Z",
     "start_time": "2024-10-29T09:20:58.600452100Z"
    }
   },
   "outputs": [
    {
     "data": {
      "text/plain": "Matrix([\n[-2.8421709430404e-14, -0.427887073863985],\n[               102.0,   797.987653090386]])",
      "text/latex": "$\\displaystyle \\left[\\begin{matrix}-2.8421709430404 \\cdot 10^{-14} & -0.427887073863985\\\\102.0 & 797.987653090386\\end{matrix}\\right]$"
     },
     "execution_count": 9,
     "metadata": {},
     "output_type": "execute_result"
    }
   ],
   "source": [
    "x"
   ]
  },
  {
   "cell_type": "code",
   "execution_count": 10,
   "id": "74f7a2a0-c4ce-45db-b0cc-ef25c8a469f9",
   "metadata": {
    "ExecuteTime": {
     "end_time": "2024-10-29T09:20:58.903260900Z",
     "start_time": "2024-10-29T09:20:58.642629700Z"
    }
   },
   "outputs": [
    {
     "data": {
      "text/plain": "Matrix([\n[101.999999999994, 711.481723367304],\n[101.999999999994, 710.681574539178],\n[101.999999999994, 708.139925320426],\n[101.999999999994, 706.625205078948],\n[101.999999999994, 706.038999787754],\n[101.999999999994, 705.131879191162],\n[101.999999999994, 703.711294105934],\n[101.999999999994, 701.687388246557],\n[101.999999999994, 700.480746698261],\n[101.999999999993, 698.285686009339],\n[101.999999999993, 697.767942649963]])",
      "text/latex": "$\\displaystyle \\left[\\begin{matrix}101.999999999994 & 711.481723367304\\\\101.999999999994 & 710.681574539178\\\\101.999999999994 & 708.139925320426\\\\101.999999999994 & 706.625205078948\\\\101.999999999994 & 706.038999787754\\\\101.999999999994 & 705.131879191162\\\\101.999999999994 & 703.711294105934\\\\101.999999999994 & 701.687388246557\\\\101.999999999994 & 700.480746698261\\\\101.999999999993 & 698.285686009339\\\\101.999999999993 & 697.767942649963\\end{matrix}\\right]$"
     },
     "execution_count": 10,
     "metadata": {},
     "output_type": "execute_result"
    }
   ],
   "source": [
    "l"
   ]
  },
  {
   "cell_type": "code",
   "execution_count": 11,
   "id": "71bb6f05-14f1-4e9c-96a3-9d0442b72091",
   "metadata": {
    "ExecuteTime": {
     "end_time": "2024-10-29T09:20:58.907523100Z",
     "start_time": "2024-10-29T09:20:58.660314400Z"
    }
   },
   "outputs": [
    {
     "data": {
      "text/plain": "Matrix([\n[5.74118530494161e-12,  1.51827663269614],\n[5.79802872380242e-12,   1.3184254608218],\n[5.96855898038484e-12, -1.13992532042607],\n[6.06803496339126e-12,   3.3747949210524],\n[6.11066752753686e-12,  4.96100021224606],\n[6.16751094639767e-12, -3.13187919116228],\n[6.26698692940408e-12,  -1.7112941059338],\n[ 6.3948846218409e-12, -1.68738824655725],\n[6.48014975013211e-12, 0.519253301739241],\n[6.62225829728413e-12, 0.714313990661481],\n[6.65068000671454e-12,  5.23205735003694]])",
      "text/latex": "$\\displaystyle \\left[\\begin{matrix}5.74118530494161 \\cdot 10^{-12} & 1.51827663269614\\\\5.79802872380242 \\cdot 10^{-12} & 1.3184254608218\\\\5.96855898038484 \\cdot 10^{-12} & -1.13992532042607\\\\6.06803496339126 \\cdot 10^{-12} & 3.3747949210524\\\\6.11066752753686 \\cdot 10^{-12} & 4.96100021224606\\\\6.16751094639767 \\cdot 10^{-12} & -3.13187919116228\\\\6.26698692940408 \\cdot 10^{-12} & -1.7112941059338\\\\6.3948846218409 \\cdot 10^{-12} & -1.68738824655725\\\\6.48014975013211 \\cdot 10^{-12} & 0.519253301739241\\\\6.62225829728413 \\cdot 10^{-12} & 0.714313990661481\\\\6.65068000671454 \\cdot 10^{-12} & 5.23205735003694\\end{matrix}\\right]$"
     },
     "execution_count": 11,
     "metadata": {},
     "output_type": "execute_result"
    }
   ],
   "source": [
    "v"
   ]
  },
  {
   "cell_type": "code",
   "execution_count": 11,
   "id": "cc320e0c-8f64-404b-9698-cde750f3a0e0",
   "metadata": {
    "ExecuteTime": {
     "end_time": "2024-10-29T09:20:58.932043700Z",
     "start_time": "2024-10-29T09:20:58.687808800Z"
    }
   },
   "outputs": [],
   "source": []
  }
 ],
 "metadata": {
  "kernelspec": {
   "display_name": "Python 3 (ipykernel)",
   "language": "python",
   "name": "python3"
  },
  "language_info": {
   "codemirror_mode": {
    "name": "ipython",
    "version": 3
   },
   "file_extension": ".py",
   "mimetype": "text/x-python",
   "name": "python",
   "nbconvert_exporter": "python",
   "pygments_lexer": "ipython3",
   "version": "3.10.12"
  }
 },
 "nbformat": 4,
 "nbformat_minor": 5
}
